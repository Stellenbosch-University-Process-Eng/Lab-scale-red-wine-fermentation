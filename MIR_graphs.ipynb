{
 "cells": [
  {
   "cell_type": "code",
   "execution_count": null,
   "id": "03fc356f",
   "metadata": {},
   "outputs": [],
   "source": [
    "import MIR_Data_Processing # Import MIR data"
   ]
  },
  {
   "cell_type": "code",
   "execution_count": null,
   "id": "5d1bdb84",
   "metadata": {},
   "outputs": [],
   "source": [
    "from MIR_Data_Processing import UVVis_MIR_conc\n",
    "from MIR_Data_Processing import RawData_merge"
   ]
  },
  {
   "cell_type": "code",
   "execution_count": null,
   "id": "854891db",
   "metadata": {},
   "outputs": [],
   "source": [
    "UVVis_MIR_conc[\"Description\"] = RawData_merge[\"Description\"]\n",
    "#print(UVVis_MIR_conc)"
   ]
  },
  {
   "cell_type": "code",
   "execution_count": null,
   "id": "40f4973c",
   "metadata": {},
   "outputs": [],
   "source": [
    "# # determining the name of the file\n",
    "# file_name = 'UVVis_MIR_data.xlsx'\n",
    "  \n",
    "# # saving the excel\n",
    "# UVVis_MIR_conc.to_excel(file_name)"
   ]
  },
  {
   "cell_type": "code",
   "execution_count": null,
   "id": "f0243efb",
   "metadata": {},
   "outputs": [],
   "source": [
    "import seaborn as sns\n",
    "import matplotlib.pyplot as plt\n",
    "sns.set_style(\"white\")\n",
    "from sklearn.metrics import r2_score\n",
    "import pandas as pd\n",
    "\n",
    "# y=x, y=1.5x and y=0.5x lines\n",
    "x = list(range(0,500,5)) # change limits based on scale of each model\n",
    "y = [i*1 for i in x] # y=x data\n",
    "y_50_upper = [i*1.5 for i in x] # y=1.5x data\n",
    "y_50_lower = [i*0.5 for i in x] # y=0.5x data\n",
    "y_x = pd.DataFrame({'x':x, 'y=x':y, 'y=1.5x':y_50_upper, 'y=0.5x':y_50_lower}) # put line data into dataframe\n",
    "\n",
    "# Colour Density Plots\n",
    "sns.scatterplot(x=\"UVVis_CD\", y=\"MIR_CD\", data=UVVis_MIR_conc[0:78], hue=\"Description\", palette=\"autumn\") # plotting Cabernet predicted versus actual colour density data\n",
    "sns.scatterplot(x=\"UVVis_CD\", y=\"MIR_CD\", data=UVVis_MIR_conc[84:162], hue=\"Description\", palette=\"winter\") # plotting Shiraz predicted versus actual colour density data\n",
    "sns.lineplot(x='x', y='y=x', data=y_x, color='black') # plot y=x line\n",
    "sns.lineplot(x='x', y='y=1.2x', data=y_x, linestyle=\"dashed\", color='black') # plot y=1.2x line\n",
    "plt.annotate(\"+50% Error\", (25, 36), fontsize=12) # display text for y=1.5x line\n",
    "sns.lineplot(x='x', y='y=0.8x', data=y_x, linestyle=\"dashed\", color='black') # plot y=0.5x line\n",
    "plt.annotate(\"-50% Error\", (30, 13), fontsize=12) # display text for y=0.5x line\n",
    "plt.annotate(\"r\\u00b2 = {:.2f}\".format(r2_score(UVVis_MIR_conc[\"UVVis_CD\"], UVVis_MIR_conc[\"MIR_CD\"])), (30, 25), fontsize=12) # display r2 value on graph\n",
    "plt.ylabel('Predicted Colour Density in MIR Range (-)', fontsize = 12) # y-axis label\n",
    "plt.xlabel('Actual Colour Density in UV-Vis Range (-)', fontsize = 12) # x-axis label\n",
    "plt.legend(fontsize = 12)\n",
    "plt.xticks(fontsize = 12)\n",
    "plt.yticks(fontsize = 12)\n",
    "plt.xlim([0,40])\n",
    "plt.ylim([0,40])"
   ]
  },
  {
   "cell_type": "code",
   "execution_count": null,
   "id": "5b1601de",
   "metadata": {
    "scrolled": true
   },
   "outputs": [],
   "source": [
    "# Anthocyanin content plots\n",
    "sns.scatterplot(x=\"UVVis_Antho\", y=\"MIR_Antho\", data=UVVis_MIR_conc[0:78], hue=\"Description\", palette=\"autumn\") # plotting Cabernet predicted versus actual anthocyanin data\n",
    "sns.scatterplot(x=\"UVVis_Antho\", y=\"MIR_Antho\", data=UVVis_MIR_conc[84:162], hue=\"Description\", palette=\"winter\") # plotting Shiraz predicted versus actual anthocyanin data\n",
    "sns.lineplot(x='x', y='y=x', data=y_x, color='black') # plot y=x line\n",
    "sns.lineplot(x='x', y='y=1.2x', data=y_x, linestyle=\"dashed\", color='black') # plot y=1.2x line\n",
    "plt.annotate(\"+50% Error\", (220, 500), fontsize=12) # display text for y=1.5x line\n",
    "sns.lineplot(x='x', y='y=0.8x', data=y_x, linestyle=\"dashed\", color='black') # plot y=0.5x line\n",
    "plt.annotate(\"-50% Error\", (400, 160), fontsize=12) # display text for y=0.5x line\n",
    "plt.annotate(\"r\\u00b2 = {:.2f}\".format(r2_score(UVVis_MIR_conc[\"UVVis_Antho\"], UVVis_MIR_conc[\"MIR_Antho\"])), (400, 520), fontsize=12) # display r2 value on graph\n",
    "plt.ylabel('Predicted Anthocyanin Content (mg/L)', fontsize = 12) # y-axis label\n",
    "plt.xlabel('Actual Anthocyanin Content (mg/L)', fontsize = 12) # x-axis label\n",
    "plt.legend(fontsize = 12)\n",
    "plt.xticks(fontsize = 12)\n",
    "plt.yticks(fontsize = 12)\n",
    "plt.xlim([0,600])\n",
    "plt.ylim([0,600])"
   ]
  },
  {
   "cell_type": "code",
   "execution_count": null,
   "id": "ac6916f6",
   "metadata": {},
   "outputs": [],
   "source": [
    "# Tannin content plots\n",
    "sns.scatterplot(x=\"UVVis_Tann\", y=\"MIR_Tann\", data=UVVis_MIR_conc[0:78], hue=\"Description\", palette=\"autumn\") # plotting Cabernet predicted versus actual tannin data\n",
    "sns.scatterplot(x=\"UVVis_Tann\", y=\"MIR_Tann\", data=UVVis_MIR_conc[84:162], hue=\"Description\", palette=\"winter\") # plotting Shiraz predicted versus actual tannin data\n",
    "sns.lineplot(x='x', y='y=x', data=y_x, color='black') # plot y=x line\n",
    "sns.lineplot(x='x', y='y=1.2x', data=y_x, linestyle=\"dashed\", color='black') # plot y=1.2x line\n",
    "plt.annotate(\"+50% Error\", (77, 110), fontsize=12) # display text for y=1.5x line\n",
    "sns.lineplot(x='x', y='y=0.8x', data=y_x, linestyle=\"dashed\", color='black') # plot y=0.5x line\n",
    "plt.annotate(\"-50% Error\", (80, 35), fontsize=12) # display text for y=0.5x line\n",
    "plt.annotate(\"r\\u00b2 = {:.2f}\".format(r2_score(UVVis_MIR_conc[\"UVVis_Tann\"], UVVis_MIR_conc[\"MIR_Tann\"])), (80, 70), fontsize=12) # display r2 value on graph\n",
    "plt.ylabel('Predicted Tannin Content (mg/L)', fontsize = 12) # y-axis label\n",
    "plt.xlabel('Actual Tannin Content (mg/L)', fontsize = 12) # x-axis label\n",
    "plt.legend(fontsize = 12)\n",
    "plt.xticks(fontsize = 12)\n",
    "plt.yticks(fontsize = 12)\n",
    "plt.xlim([0,120])\n",
    "plt.ylim([0,120])"
   ]
  },
  {
   "cell_type": "code",
   "execution_count": null,
   "id": "99a48bc8",
   "metadata": {},
   "outputs": [],
   "source": [
    "# TPI plots\n",
    "sns.scatterplot(x=\"UVVis_TPI\", y=\"MIR_TPI\", data=UVVis_MIR_conc[0:78], hue=\"Description\", palette=\"autumn\") # plotting Cabernet predicted versus actual TPI data\n",
    "sns.scatterplot(x=\"UVVis_TPI\", y=\"MIR_TPI\", data=UVVis_MIR_conc[84:162], hue=\"Description\", palette=\"winter\") # plotting Shiraz predicted versus actual TPI data\n",
    "sns.lineplot(x='x', y='y=x', data=y_x, color='black') # plot y=x line\n",
    "sns.lineplot(x='x', y='y=1.2x', data=y_x, linestyle=\"dashed\", color='black') # plot y=1.2x line\n",
    "plt.annotate(\"+50% Error\", (35, 50), fontsize=12) # display text for y=1.5x line\n",
    "sns.lineplot(x='x', y='y=0.8x', data=y_x, linestyle=\"dashed\", color='black') # plot y=0.5x line\n",
    "plt.annotate(\"-50% Error\", (45, 20), fontsize=12) # display text for y=0.5x line\n",
    "plt.annotate(\"r\\u00b2 = {:.2f}\".format(r2_score(UVVis_MIR_conc[\"UVVis_TPI\"], UVVis_MIR_conc[\"MIR_TPI\"])), (45, 40), fontsize=12) # display r2 value on graph\n",
    "plt.ylabel('Predicted TPI (-)', fontsize = 12) # y-axis label\n",
    "plt.xlabel('Actual TPI (-)', fontsize = 12) # x-axis label\n",
    "plt.legend(fontsize = 12)\n",
    "plt.xticks(fontsize = 12)\n",
    "plt.yticks(fontsize = 12)\n",
    "plt.xlim([0,60])\n",
    "plt.ylim([0,60])"
   ]
  },
  {
   "cell_type": "code",
   "execution_count": null,
   "id": "cf74e687",
   "metadata": {},
   "outputs": [],
   "source": [
    "# SO2 resistant pigment plots\n",
    "sns.scatterplot(x=\"UVVis_SO2\", y=\"MIR_SO2\", data=UVVis_MIR_conc[0:78], hue=\"Description\", palette=\"autumn\") # plotting Cabernet predicted versus actual polymeric pigment data\n",
    "sns.scatterplot(x=\"UVVis_SO2\", y=\"MIR_SO2\", data=UVVis_MIR_conc[84:162], hue=\"Description\", palette=\"winter\") # plotting Shiraz predicted versus actual polymeric pigment data\n",
    "sns.lineplot(x='x', y='y=x', data=y_x, color='black') # plot y=x line\n",
    "sns.lineplot(x='x', y='y=1.2x', data=y_x, linestyle=\"dashed\", color='black') # plot y=1.2x line\n",
    "plt.annotate(\"+50% Error\", (310, 450), fontsize=12) # display text for y=1.5x line\n",
    "sns.lineplot(x='x', y='y=0.8x', data=y_x, linestyle=\"dashed\", color='black') # plot y=0.5x line\n",
    "plt.annotate(\"-50% Error\", (400, 175), fontsize=12) # display text for y=0.5x line\n",
    "plt.annotate(\"r\\u00b2 = {:.2f}\".format(r2_score(UVVis_MIR_conc[\"UVVis_SO2\"], UVVis_MIR_conc[\"MIR_SO2\"])), (300, 250), fontsize=12) # display r2 value on graph\n",
    "plt.ylabel('Predicted Polymeric Pigment Content (mg/L)', fontsize = 12) # y-axis label\n",
    "plt.xlabel('Actual Polymeric Pigment Content (mg/L)', fontsize = 12) # x-axis label\n",
    "plt.legend(fontsize = 12)\n",
    "plt.xticks(fontsize = 12)\n",
    "plt.yticks(fontsize = 12)\n",
    "plt.xlim([0,500])\n",
    "plt.ylim([0,500])"
   ]
  },
  {
   "cell_type": "code",
   "execution_count": null,
   "id": "7528bcf2",
   "metadata": {
    "scrolled": true
   },
   "outputs": [],
   "source": []
  },
  {
   "cell_type": "code",
   "execution_count": null,
   "id": "a922468a",
   "metadata": {},
   "outputs": [],
   "source": []
  },
  {
   "cell_type": "code",
   "execution_count": null,
   "id": "b070d992",
   "metadata": {},
   "outputs": [],
   "source": []
  },
  {
   "cell_type": "code",
   "execution_count": null,
   "id": "6ffb67dc",
   "metadata": {},
   "outputs": [],
   "source": []
  },
  {
   "cell_type": "code",
   "execution_count": null,
   "id": "d960cee0",
   "metadata": {},
   "outputs": [],
   "source": []
  },
  {
   "cell_type": "code",
   "execution_count": null,
   "id": "9de24af3",
   "metadata": {},
   "outputs": [],
   "source": []
  },
  {
   "cell_type": "code",
   "execution_count": null,
   "id": "b9d03145",
   "metadata": {},
   "outputs": [],
   "source": []
  },
  {
   "cell_type": "code",
   "execution_count": null,
   "id": "84bd40dd",
   "metadata": {},
   "outputs": [],
   "source": []
  }
 ],
 "metadata": {
  "kernelspec": {
   "display_name": "Python 3 (ipykernel)",
   "language": "python",
   "name": "python3"
  },
  "language_info": {
   "codemirror_mode": {
    "name": "ipython",
    "version": 3
   },
   "file_extension": ".py",
   "mimetype": "text/x-python",
   "name": "python",
   "nbconvert_exporter": "python",
   "pygments_lexer": "ipython3",
   "version": "3.10.5"
  }
 },
 "nbformat": 4,
 "nbformat_minor": 5
}
