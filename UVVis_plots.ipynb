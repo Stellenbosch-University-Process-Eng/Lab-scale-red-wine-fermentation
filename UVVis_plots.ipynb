{
 "cells": [
  {
   "cell_type": "code",
   "execution_count": null,
   "id": "66c9cfa7",
   "metadata": {},
   "outputs": [],
   "source": [
    "import UV_Vis_Data_Processing # Import UV-Vis concentration data"
   ]
  },
  {
   "cell_type": "code",
   "execution_count": null,
   "id": "07c9da98",
   "metadata": {},
   "outputs": [],
   "source": [
    "from UV_Vis_Data_Processing import RawData_merge # Import full dataframe of all data\n",
    "#print(RawData_merge)"
   ]
  },
  {
   "cell_type": "code",
   "execution_count": null,
   "id": "e50378e6",
   "metadata": {},
   "outputs": [],
   "source": [
    "from UV_Vis_Data_Processing import TPI \n",
    "#print(TPI)"
   ]
  },
  {
   "cell_type": "code",
   "execution_count": null,
   "id": "0cd8ec02",
   "metadata": {},
   "outputs": [],
   "source": [
    "RawData_merge[\"TPI\"] = TPI # add TPI to dataframe\n",
    "#print(RawData_merge)"
   ]
  },
  {
   "cell_type": "code",
   "execution_count": null,
   "id": "1faa9ae1",
   "metadata": {},
   "outputs": [],
   "source": [
    "import numpy as np\n",
    "import pandas as pd\n",
    "\n",
    "RawData_merge['Anthocyanin Content'][12:19] = np.nan\n",
    "RawData_merge['Anthocyanin Content'][42] = np.nan\n",
    "RawData_merge['Anthocyanin Content'][68] = np.nan"
   ]
  },
  {
   "cell_type": "code",
   "execution_count": null,
   "id": "e9ce1919",
   "metadata": {},
   "outputs": [],
   "source": [
    "RawData_merge['TPI'][12:19] = np.nan\n",
    "RawData_merge['TPI'][42] = np.nan\n",
    "RawData_merge['TPI'][68] = np.nan"
   ]
  },
  {
   "cell_type": "code",
   "execution_count": null,
   "id": "6acd2473",
   "metadata": {},
   "outputs": [],
   "source": [
    "RawData_merge['Tannins'][20] = np.nan\n",
    "RawData_merge['Tannins'][46] = np.nan\n",
    "RawData_merge['Tannins'][92] = np.nan"
   ]
  },
  {
   "cell_type": "code",
   "execution_count": null,
   "id": "dfaa0dbb",
   "metadata": {},
   "outputs": [],
   "source": [
    "RawData_merge = RawData_merge.interpolate()"
   ]
  },
  {
   "cell_type": "code",
   "execution_count": null,
   "id": "5da65f03",
   "metadata": {},
   "outputs": [],
   "source": []
  },
  {
   "cell_type": "code",
   "execution_count": null,
   "id": "8dde699d",
   "metadata": {
    "scrolled": false
   },
   "outputs": [],
   "source": [
    "#Pilot vs laboratory scale: Colour Density\n",
    "\n",
    "import seaborn as sns\n",
    "import matplotlib.pyplot as plt\n",
    "C_17L_Fresh = RawData_merge[0:51]\n",
    "S_17L_Fresh = RawData_merge[84:136]\n",
    "\n",
    "sns.set(rc={'figure.figsize':(10,7)})\n",
    "sns.set_style(\"white\")\n",
    "\n",
    "sns.pointplot(x=\"Day\",y=\"Colour Density\",data=C_17L_Fresh, hue=\"Description\", err_style=\"bars\", capsize = 0.4, ci=30, palette='autumn')\n",
    "sns.pointplot(x=\"Day\",y=\"Colour Density\",data=S_17L_Fresh, hue=\"Description\", err_style=\"bars\", capsize = 0.4, ci=30, palette='winter')\n",
    "plt.ylabel('Colour Density (-)', fontsize = 25)\n",
    "plt.xlabel('Fermentation Day', fontsize = 25)\n",
    "plt.legend(fontsize = 20)\n",
    "plt.xticks(fontsize = 20)\n",
    "plt.yticks(fontsize = 20)\n",
    "plt.plot()"
   ]
  },
  {
   "cell_type": "code",
   "execution_count": null,
   "id": "00d9c277",
   "metadata": {},
   "outputs": [],
   "source": []
  },
  {
   "cell_type": "code",
   "execution_count": null,
   "id": "056a09ff",
   "metadata": {
    "scrolled": true
   },
   "outputs": [],
   "source": [
    "# Pilot vs laboratory scale: Anthocyanins\n",
    "\n",
    "sns.pointplot(x=\"Day\",y=\"Anthocyanin Content\",data=C_17L_Fresh, hue=\"Description\", err_style=\"bars\", capsize=0.4, ci=50, palette='autumn')\n",
    "sns.pointplot(x=\"Day\",y=\"Anthocyanin Content\",data=S_17L_Fresh, hue=\"Description\", err_style=\"bars\", capsize=0.4, ci=50, palette='winter')\n",
    "plt.ylabel('Anthocyanin Content (mg/L)', fontsize = 23)\n",
    "plt.xlabel('Fermentation Day', fontsize = 23)\n",
    "plt.legend(fontsize = 18)\n",
    "plt.xticks(fontsize = 18)\n",
    "plt.yticks(fontsize = 18)\n",
    "plt.plot()"
   ]
  },
  {
   "cell_type": "code",
   "execution_count": null,
   "id": "0601b7b7",
   "metadata": {},
   "outputs": [],
   "source": [
    "# Pilot vs laboratory scale: TPI\n",
    "\n",
    "sns.pointplot(x=\"Day\",y=\"TPI\",data=C_17L_Fresh, hue=\"Description\", err_style=\"bars\", capsize=0.4, ci=50, palette='autumn')\n",
    "sns.pointplot(x=\"Day\",y=\"TPI\",data=S_17L_Fresh, hue=\"Description\", err_style=\"bars\", capsize=0.4, ci=50, palette='winter')\n",
    "plt.ylabel('Total Phenolic Index (-)', fontsize = 23)\n",
    "plt.xlabel('Fermentation Day', fontsize = 23)\n",
    "plt.legend(fontsize = 18)\n",
    "plt.xticks(fontsize = 18)\n",
    "plt.yticks(fontsize = 18)\n",
    "plt.plot()"
   ]
  },
  {
   "cell_type": "code",
   "execution_count": null,
   "id": "743f273a",
   "metadata": {},
   "outputs": [],
   "source": [
    "# Pilot vs laboratory scale: Tannins\n",
    "\n",
    "sns.pointplot(x=\"Day\",y=\"Tannins\",data=C_17L_Fresh, hue=\"Description\", err_style=\"bars\", capsize=0.4, ci=50, palette='autumn')\n",
    "sns.pointplot(x=\"Day\",y=\"Tannins\",data=S_17L_Fresh, hue=\"Description\", err_style=\"bars\", capsize=0.4, ci=50, palette='winter')\n",
    "plt.ylabel('Tannin Content (mg/L)', fontsize = 25)\n",
    "plt.xlabel('Fermentation Day', fontsize = 25)\n",
    "plt.legend(fontsize = 20)\n",
    "plt.xticks(fontsize = 20)\n",
    "plt.yticks(fontsize = 20)\n",
    "plt.plot()"
   ]
  },
  {
   "cell_type": "code",
   "execution_count": null,
   "id": "05b361ca",
   "metadata": {},
   "outputs": [],
   "source": [
    "# Pilot vs laboratory scale: SO2 Resistant Pigments\n",
    "\n",
    "sns.pointplot(x=\"Day\",y=\"SO2 Resistant Pigments\",data=C_17L_Fresh, hue=\"Description\", err_style=\"bars\", capsize=0.4, ci=50, palette='autumn')\n",
    "sns.pointplot(x=\"Day\",y=\"SO2 Resistant Pigments\",data=S_17L_Fresh, hue=\"Description\", err_style=\"bars\", capsize=0.4, ci=50, palette='winter')\n",
    "plt.ylabel('Polymeric Pigments (mg/L)', fontsize = 23)\n",
    "plt.xlabel('Fermentation Day', fontsize = 23)\n",
    "plt.legend(fontsize = 18)\n",
    "plt.xticks(fontsize = 18)\n",
    "plt.yticks(fontsize = 18)\n",
    "plt.plot()"
   ]
  },
  {
   "cell_type": "code",
   "execution_count": null,
   "id": "78a565d9",
   "metadata": {},
   "outputs": [],
   "source": [
    "# Pilot vs laboratory scale: total sugars\n",
    "\n",
    "sns.pointplot(x=\"Day\",y=\"Total Sugar(g/L)\",data=C_17L_Fresh, hue=\"Description\", err_style=\"bars\", capzize=0.8, ci=50, palette='autumn')\n",
    "sns.pointplot(x=\"Day\",y=\"Total Sugar(g/L)\",data=S_17L_Fresh, hue=\"Description\", err_style=\"bars\", capzize=0.8, ci=50, palette='winter')\n",
    "plt.ylabel('Total Sugar (g/L)', fontsize = 23)\n",
    "plt.xlabel('Fermentation Day', fontsize = 23)\n",
    "plt.legend(fontsize = 18)\n",
    "plt.xticks(fontsize = 18)\n",
    "plt.yticks(fontsize = 18)\n",
    "plt.plot()"
   ]
  },
  {
   "cell_type": "code",
   "execution_count": null,
   "id": "039c7bfd",
   "metadata": {
    "scrolled": false
   },
   "outputs": [],
   "source": [
    "# Fresh vs Frozen data\n",
    "C_Fresh_Frozen = RawData_merge[26:78]\n",
    "S_Fresh_Frozen = RawData_merge[110:162]"
   ]
  },
  {
   "cell_type": "code",
   "execution_count": null,
   "id": "e2a81f2a",
   "metadata": {},
   "outputs": [],
   "source": [
    "# Fresh vs Frozen: colour density\n",
    "\n",
    "sns.pointplot(x=\"Day\",y=\"Colour Density\",data=C_Fresh_Frozen, hue=\"Description\", err_style=\"bars\", capsize=0.4, ci=50, palette='autumn')\n",
    "sns.pointplot(x=\"Day\",y=\"Colour Density\",data=S_Fresh_Frozen, hue=\"Description\", err_style=\"bars\", capsize=0.4, ci=50, palette='winter')\n",
    "plt.ylabel('Colour Density (-)', fontsize = 25)\n",
    "plt.xlabel('Fermentation Day', fontsize = 25)\n",
    "plt.legend(fontsize = 20)\n",
    "plt.xticks(fontsize = 20)\n",
    "plt.yticks(fontsize = 20)\n",
    "plt.plot()"
   ]
  },
  {
   "cell_type": "code",
   "execution_count": null,
   "id": "c69f4867",
   "metadata": {},
   "outputs": [],
   "source": [
    "# Fresh vs Frozen: Anthocyanin Content\n",
    "\n",
    "sns.pointplot(x=\"Day\",y=\"Anthocyanin Content\",data=C_Fresh_Frozen, hue=\"Description\", err_style=\"bars\", capsize=0.4, ci=50, palette='autumn')\n",
    "sns.pointplot(x=\"Day\",y=\"Anthocyanin Content\",data=S_Fresh_Frozen, hue=\"Description\", err_style=\"bars\", capsize=0.4, ci=50, palette='winter')\n",
    "plt.ylabel('Anthocyanin Content (mg/L)', fontsize = 23)\n",
    "plt.xlabel('Fermentation Day', fontsize = 23)\n",
    "plt.legend(fontsize = 18)\n",
    "plt.xticks(fontsize = 18)\n",
    "plt.yticks(fontsize = 18)\n",
    "plt.plot()"
   ]
  },
  {
   "cell_type": "code",
   "execution_count": null,
   "id": "9f225d61",
   "metadata": {},
   "outputs": [],
   "source": [
    "# Fresh vs Frozen: TPI\n",
    "\n",
    "sns.pointplot(x=\"Day\",y=\"TPI\",data=C_Fresh_Frozen, hue=\"Description\", err_style=\"bars\", capsize=0.4, ci=50, palette='autumn')\n",
    "sns.pointplot(x=\"Day\",y=\"TPI\",data=S_Fresh_Frozen, hue=\"Description\", err_style=\"bars\", capsize=0.4, ci=50, palette='winter')\n",
    "plt.ylabel('Total Phenolic Index (-)', fontsize = 23)\n",
    "plt.xlabel('Fermentation Day', fontsize = 23)\n",
    "plt.legend(fontsize = 18)\n",
    "plt.xticks(fontsize = 18)\n",
    "plt.yticks(fontsize = 18)\n",
    "plt.plot()"
   ]
  },
  {
   "cell_type": "code",
   "execution_count": null,
   "id": "410aa0b1",
   "metadata": {},
   "outputs": [],
   "source": [
    "# Fresh vs Frozen: Tannins\n",
    "\n",
    "sns.pointplot(x=\"Day\",y=\"Tannins\",data=C_Fresh_Frozen, hue=\"Description\", err_style=\"bars\", capsize=0.4, ci=50, palette='autumn')\n",
    "sns.pointplot(x=\"Day\",y=\"Tannins\",data=S_Fresh_Frozen, hue=\"Description\", err_style=\"bars\", capsize=0.4, ci=50, palette='winter')\n",
    "plt.ylabel('Tannin Content (mg/L)', fontsize = 25)\n",
    "plt.xlabel('Fermentation Day', fontsize = 25)\n",
    "plt.legend(fontsize = 20)\n",
    "plt.xticks(fontsize = 20)\n",
    "plt.yticks(fontsize = 20)\n",
    "plt.plot()"
   ]
  },
  {
   "cell_type": "code",
   "execution_count": null,
   "id": "e53d097f",
   "metadata": {},
   "outputs": [],
   "source": [
    "# Fresh vs Frozen: SO2 Resistant Pigments\n",
    "\n",
    "sns.pointplot(x=\"Day\",y=\"SO2 Resistant Pigments\",data=C_Fresh_Frozen, hue=\"Description\", err_style=\"bars\", capsize=0.4, ci=50, palette='autumn')\n",
    "sns.pointplot(x=\"Day\",y=\"SO2 Resistant Pigments\",data=S_Fresh_Frozen, hue=\"Description\", err_style=\"bars\", capsize=0.4, ci=50, palette='winter')\n",
    "plt.ylabel('Polymeric Pigments (mg/L)', fontsize = 25)\n",
    "plt.xlabel('Fermentation Day', fontsize = 25)\n",
    "plt.legend(fontsize = 15)\n",
    "plt.xticks(fontsize = 20)\n",
    "plt.yticks(fontsize = 20)\n",
    "plt.plot()"
   ]
  },
  {
   "cell_type": "code",
   "execution_count": null,
   "id": "4b6cb0bc",
   "metadata": {},
   "outputs": [],
   "source": [
    "# Fresh vs Frozen: sugars\n",
    "\n",
    "sns.pointplot(x=\"Day\",y=\"Total Sugar(g/L)\",data=C_Fresh_Frozen, hue=\"Description\", err_style=\"bars\", capsize=0.4, ci=50, palette='autumn')\n",
    "sns.pointplot(x=\"Day\",y=\"Total Sugar(g/L)\",data=S_Fresh_Frozen, hue=\"Description\", err_style=\"bars\", capsize=0.4, ci=50, palette='winter')\n",
    "plt.ylabel('Total Sugar (g/L)', fontsize = 23)\n",
    "plt.xlabel('Fermentation Day', fontsize = 23)\n",
    "plt.legend(fontsize = 18)\n",
    "plt.xticks(fontsize = 18)\n",
    "plt.yticks(fontsize = 18)\n",
    "plt.plot()"
   ]
  },
  {
   "cell_type": "code",
   "execution_count": null,
   "id": "cc99b330",
   "metadata": {},
   "outputs": [],
   "source": [
    "# Fresh vs Frozen: Alcohol content\n",
    "\n",
    "sns.pointplot(x=\"Day\",y=\"Alcohol(%)\",data=C_Fresh_Frozen, hue=\"Description\", err_style=\"bars\", capsize=0.4, ci=50, palette='autumn')\n",
    "sns.pointplot(x=\"Day\",y=\"Alcohol(%)\",data=S_Fresh_Frozen, hue=\"Description\", err_style=\"bars\", capsize=0.4, ci=50, palette='winter')\n",
    "plt.ylabel('Alcohol(%)', fontsize = 23)\n",
    "plt.xlabel('Fermentation Day', fontsize = 23)\n",
    "plt.legend(fontsize = 18)\n",
    "plt.xticks(fontsize = 18)\n",
    "plt.yticks(fontsize = 18)\n",
    "plt.plot()"
   ]
  },
  {
   "cell_type": "code",
   "execution_count": null,
   "id": "6fc2f684",
   "metadata": {},
   "outputs": [],
   "source": [
    "# Pilot vs laboratory scale: Alcohol content\n",
    "\n",
    "sns.pointplot(x=\"Day\",y=\"Alcohol(%)\",data=C_17L_Fresh, hue=\"Description\", err_style=\"bars\", capsize=0.4, ci=50, palette='autumn')\n",
    "sns.pointplot(x=\"Day\",y=\"Alcohol(%)\",data=S_17L_Fresh, hue=\"Description\", err_style=\"bars\", capsize=0.4, ci=50, palette='winter')\n",
    "plt.ylabel('Alcohol(%)', fontsize = 23)\n",
    "plt.xlabel('Fermentation Day', fontsize = 23)\n",
    "plt.legend(fontsize = 18)\n",
    "plt.xticks(fontsize = 18)\n",
    "plt.yticks(fontsize = 18)\n",
    "plt.plot()"
   ]
  },
  {
   "cell_type": "code",
   "execution_count": null,
   "id": "a6c3ac77",
   "metadata": {},
   "outputs": [],
   "source": [
    "# Pilot- vs lab- scale: Temperature\n",
    "\n",
    "sns.pointplot(x=\"Day\",y=\"Must Temp\",data=C_17L_Fresh, hue=\"Description\", err_style=\"bars\", capsize=0.4, ci=50, palette='autumn')\n",
    "sns.pointplot(x=\"Day\",y=\"Must Temp\",data=S_17L_Fresh, hue=\"Description\", err_style=\"bars\", capsize=0.4, ci=50, palette='winter')\n",
    "plt.ylabel('Temperature \\u00b0C', fontsize = 20)\n",
    "plt.xlabel('Fermentation Day', fontsize = 20)\n",
    "plt.legend(fontsize = 15)\n",
    "plt.xticks(fontsize = 15)\n",
    "plt.yticks(fontsize = 15)\n",
    "plt.plot()\n",
    "plt.ylim([18,26])"
   ]
  },
  {
   "cell_type": "code",
   "execution_count": null,
   "id": "4eaeb20f",
   "metadata": {},
   "outputs": [],
   "source": [
    "# Fresh vs frozen: Temperature\n",
    "\n",
    "sns.pointplot(x=\"Day\",y=\"Must Temp\",data=C_Fresh_Frozen, hue=\"Description\", err_style=\"bars\", capsize=0.4, ci=50, palette='autumn')\n",
    "sns.pointplot(x=\"Day\",y=\"Must Temp\",data=S_Fresh_Frozen, hue=\"Description\", err_style=\"bars\", capsize=0.4, ci=50, palette='winter')\n",
    "plt.ylabel('Temperature \\u00b0C', fontsize = 20)\n",
    "plt.xlabel('Fermentation Day', fontsize = 20)\n",
    "plt.legend(fontsize = 15)\n",
    "plt.xticks(fontsize = 15)\n",
    "plt.yticks(fontsize = 15)\n",
    "plt.plot()"
   ]
  },
  {
   "cell_type": "code",
   "execution_count": null,
   "id": "ba4fa38e",
   "metadata": {},
   "outputs": [],
   "source": []
  },
  {
   "cell_type": "code",
   "execution_count": null,
   "id": "486d29fb",
   "metadata": {},
   "outputs": [],
   "source": []
  },
  {
   "cell_type": "code",
   "execution_count": null,
   "id": "5620c9bd",
   "metadata": {},
   "outputs": [],
   "source": []
  },
  {
   "cell_type": "code",
   "execution_count": null,
   "id": "6ccbe5aa",
   "metadata": {},
   "outputs": [],
   "source": []
  },
  {
   "cell_type": "code",
   "execution_count": null,
   "id": "920ba3ae",
   "metadata": {},
   "outputs": [],
   "source": []
  },
  {
   "cell_type": "code",
   "execution_count": null,
   "id": "8a885860",
   "metadata": {
    "scrolled": true
   },
   "outputs": [],
   "source": []
  },
  {
   "cell_type": "code",
   "execution_count": null,
   "id": "03a52ee9",
   "metadata": {
    "scrolled": true
   },
   "outputs": [],
   "source": []
  },
  {
   "cell_type": "code",
   "execution_count": null,
   "id": "f7b3c971",
   "metadata": {},
   "outputs": [],
   "source": []
  },
  {
   "cell_type": "code",
   "execution_count": null,
   "id": "1cfc344e",
   "metadata": {},
   "outputs": [],
   "source": []
  },
  {
   "cell_type": "code",
   "execution_count": null,
   "id": "3a6ab77b",
   "metadata": {},
   "outputs": [],
   "source": []
  },
  {
   "cell_type": "code",
   "execution_count": null,
   "id": "15170157",
   "metadata": {},
   "outputs": [],
   "source": []
  },
  {
   "cell_type": "code",
   "execution_count": null,
   "id": "211f156f",
   "metadata": {},
   "outputs": [],
   "source": []
  },
  {
   "cell_type": "code",
   "execution_count": null,
   "id": "c0a5845c",
   "metadata": {},
   "outputs": [],
   "source": []
  },
  {
   "cell_type": "code",
   "execution_count": null,
   "id": "f2468507",
   "metadata": {},
   "outputs": [],
   "source": []
  },
  {
   "cell_type": "code",
   "execution_count": null,
   "id": "63659a52",
   "metadata": {},
   "outputs": [],
   "source": []
  },
  {
   "cell_type": "code",
   "execution_count": null,
   "id": "28917440",
   "metadata": {},
   "outputs": [],
   "source": []
  },
  {
   "cell_type": "code",
   "execution_count": null,
   "id": "1df609e2",
   "metadata": {},
   "outputs": [],
   "source": []
  },
  {
   "cell_type": "code",
   "execution_count": null,
   "id": "011013d7",
   "metadata": {},
   "outputs": [],
   "source": []
  },
  {
   "cell_type": "code",
   "execution_count": null,
   "id": "d2441cf2",
   "metadata": {},
   "outputs": [],
   "source": []
  },
  {
   "cell_type": "code",
   "execution_count": null,
   "id": "d64a4528",
   "metadata": {},
   "outputs": [],
   "source": []
  },
  {
   "cell_type": "code",
   "execution_count": null,
   "id": "4d2f295c",
   "metadata": {},
   "outputs": [],
   "source": []
  },
  {
   "cell_type": "code",
   "execution_count": null,
   "id": "a6d087f2",
   "metadata": {},
   "outputs": [],
   "source": []
  },
  {
   "cell_type": "code",
   "execution_count": null,
   "id": "896234c6",
   "metadata": {
    "scrolled": false
   },
   "outputs": [],
   "source": []
  },
  {
   "cell_type": "code",
   "execution_count": null,
   "id": "599e653f",
   "metadata": {},
   "outputs": [],
   "source": []
  }
 ],
 "metadata": {
  "kernelspec": {
   "display_name": "Python 3 (ipykernel)",
   "language": "python",
   "name": "python3"
  },
  "language_info": {
   "codemirror_mode": {
    "name": "ipython",
    "version": 3
   },
   "file_extension": ".py",
   "mimetype": "text/x-python",
   "name": "python",
   "nbconvert_exporter": "python",
   "pygments_lexer": "ipython3",
   "version": "3.10.5"
  }
 },
 "nbformat": 4,
 "nbformat_minor": 5
}
